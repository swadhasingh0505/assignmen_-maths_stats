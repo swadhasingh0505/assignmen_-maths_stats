{
 "cells": [
  {
   "cell_type": "markdown",
   "id": "07c8c0b2",
   "metadata": {
    "id": "07c8c0b2"
   },
   "source": [
    "\n",
    "### 1. Find the Cartesian Product of the below given sets in the below cell. (In Python Code)\n",
    "\n",
    "A = set(['a','b','c'])\n",
    "\n",
    "S = {1,2,3}\n"
   ]
  },
  {
   "cell_type": "code",
   "execution_count": 1,
   "id": "8b2078fa",
   "metadata": {
    "id": "8b2078fa"
   },
   "outputs": [
    {
     "name": "stdout",
     "output_type": "stream",
     "text": [
      "[('b', 1), ('b', 2), ('b', 3), ('a', 1), ('a', 2), ('a', 3), ('c', 1), ('c', 2), ('c', 3)]\n"
     ]
    }
   ],
   "source": [
    "from itertools import product\n",
    "\n",
    "A = set(['a', 'b', 'c'])\n",
    "S = {1, 2, 3}\n",
    "\n",
    "cartesian_product = list(product(A, S))\n",
    "\n",
    "print(cartesian_product)\n"
   ]
  },
  {
   "cell_type": "markdown",
   "id": "3d43b9ee",
   "metadata": {
    "id": "3d43b9ee"
   },
   "source": [
    "### 2. Find all the possible permutations and number of permutations of A\n",
    "\n",
    "A = {'Red','Green','Blue'}\n"
   ]
  },
  {
   "cell_type": "code",
   "execution_count": 2,
   "id": "52c18588",
   "metadata": {
    "id": "52c18588"
   },
   "outputs": [
    {
     "name": "stdout",
     "output_type": "stream",
     "text": [
      "All Permutations: [('Red', 'Green', 'Blue'), ('Red', 'Blue', 'Green'), ('Green', 'Red', 'Blue'), ('Green', 'Blue', 'Red'), ('Blue', 'Red', 'Green'), ('Blue', 'Green', 'Red')]\n",
      "Number of Permutations: 6\n"
     ]
    }
   ],
   "source": [
    "from itertools import permutations\n",
    "\n",
    "A = {'Red', 'Green', 'Blue'}\n",
    "\n",
    "all_permutations = list(permutations(A))\n",
    "num_permutations = len(all_permutations)\n",
    "\n",
    "print(\"All Permutations:\", all_permutations)\n",
    "print(\"Number of Permutations:\", num_permutations)\n"
   ]
  },
  {
   "cell_type": "markdown",
   "id": "637ffa24",
   "metadata": {
    "id": "637ffa24"
   },
   "source": [
    "### 3. Research Question on Hypothesis Testing\n",
    "\n",
    "In previous years, 52% of parents believed that electronics and social media was the cause of their teenager’s lack of sleep. Do more parents today believe that their teenager’s lack of sleep is caused due to electronics and social media?\n",
    "\n",
    "**Population**: Parents with a teenager (age 13-18)  \n",
    "**Parameter of Interest**: p  \n",
    "\n",
    "**Null Hypothesis:** p = 0.52  \n",
    "**Alternative Hypthosis:** p > 0.52 (note that this is a one-sided test)\n",
    "\n",
    "**Data**: 1018 people were surveyed. 56% of those who were surveyed believe that their teenager’s lack of sleep is caused due to electronics and social media."
   ]
  },
  {
   "cell_type": "markdown",
   "id": "4786f83f",
   "metadata": {
    "id": "4786f83f"
   },
   "source": [
    "### Hint: Use  `proportions_ztest()` from `statsmodels`\n",
    "\n",
    "Note the argument `alternative=\"larger\"` indicating a one-sided test. The function returns two values - the z-statistic and the corresponding p-value."
   ]
  },
  {
   "cell_type": "code",
   "execution_count": 4,
   "id": "475fe79a",
   "metadata": {
    "id": "475fe79a"
   },
   "outputs": [
    {
     "name": "stdout",
     "output_type": "stream",
     "text": [
      "Z-statistic: 2.571067795759113\n",
      "P-value: 0.005069273865860533\n",
      "Reject the null hypothesis. There is evidence that more parents today believe their teenager's lack of sleep is caused by electronics and social media.\n"
     ]
    }
   ],
   "source": [
    "import statsmodels.api as sm\n",
    "\n",
    "sample_size = 1018\n",
    "observed_proportion = 0.56  # 56%\n",
    "\n",
    "null_hypothesis_proportion = 0.52\n",
    "\n",
    "z_statistic, p_value = sm.stats.proportions_ztest(observed_proportion * sample_size, sample_size, null_hypothesis_proportion, alternative='larger')\n",
    "\n",
    "print(\"Z-statistic:\", z_statistic)\n",
    "print(\"P-value:\", p_value)\n",
    "\n",
    "if p_value < 0.05:\n",
    "    print(\"Reject the null hypothesis. There is evidence that more parents today believe their teenager's lack of sleep is caused by electronics and social media.\")\n",
    "else:\n",
    "    print(\"Fail to reject the null hypothesis. There is not enough evidence to suggest a change in the proportion.\")\n"
   ]
  },
  {
   "cell_type": "markdown",
   "id": "e64e5437",
   "metadata": {
    "id": "e64e5437"
   },
   "source": [
    " What is your Conclusion of the hypothesis test"
   ]
  },
  {
   "cell_type": "code",
   "execution_count": 14,
   "id": "49ae2383",
   "metadata": {},
   "outputs": [],
   "source": [
    "#The null hypothesis (H0) states that the proportion of parents who believe that their teenager's lack of sleep is caused by electronics and social media is the same as in previous years (52%). The alternative hypothesis (H1) suggests that the proportion is greater than 52%.\n",
    "\n",
    "#After performing the one-sided z-test, you would typically compare the p-value to a significance level (commonly set at 0.05). Here's a general guideline:\n",
    "\n",
    "#If the p-value is less than the significance level (e.g., 0.05), you would reject the null hypothesis.\n",
    "#If the p-value is greater than or equal to the significance level, you would fail to reject the null hypothesis.\n",
    "#Assuming you've used a significance level of 0.05, if your output shows a p-value less than 0.05, you would reject the null hypothesis. The conclusion would be that there is evidence to suggest that more parents today believe that their teenager's lack of sleep is caused by electronics and social media. On the other hand, if the p-value is greater than or equal to 0.05, you would not have enough evidence to suggest a change in the proportion; hence, you would fail to reject the null hypothesis.\n",
    "\n",
    "#The exact conclusion would depend on the actual p-value obtained from the test.\n",
    "\n",
    "\n"
   ]
  },
  {
   "cell_type": "markdown",
   "id": "4503f17c",
   "metadata": {
    "id": "4503f17c"
   },
   "source": [
    "### 4. Calculate the set difference between the 2 sets (set1 - multipes of 3 upto a range of 31 and set2 - multiples of upto a range of 31)"
   ]
  },
  {
   "cell_type": "code",
   "execution_count": 9,
   "id": "d2760c77",
   "metadata": {
    "id": "d2760c77"
   },
   "outputs": [
    {
     "name": "stdout",
     "output_type": "stream",
     "text": [
      "Set1: {1, 2, 4, 5, 7, 8, 10, 11, 13, 14, 16, 17, 19, 20, 22, 23, 25, 26, 28, 29, 31}\n",
      "Set2: {3, 6, 9, 12, 15, 18, 21, 24, 27, 30}\n",
      "Set Difference (Set1 - Set2): {1, 2, 4, 5, 7, 8, 10, 11, 13, 14, 16, 17, 19, 20, 22, 23, 25, 26, 28, 29, 31}\n"
     ]
    }
   ],
   "source": [
    "set1 = set(range(1, 32)) - set(range(3, 32, 3))\n",
    "set2 = set(range(3, 32, 3))\n",
    "result_set = set1 - set2\n",
    "print(\"Set1:\", set1)\n",
    "print(\"Set2:\", set2)\n",
    "print(\"Set Difference (Set1 - Set2):\", result_set)\n"
   ]
  },
  {
   "cell_type": "code",
   "execution_count": null,
   "id": "b10dc469",
   "metadata": {
    "id": "b10dc469"
   },
   "outputs": [],
   "source": []
  },
  {
   "cell_type": "markdown",
   "id": "796c2e91",
   "metadata": {
    "id": "796c2e91"
   },
   "source": [
    "### 5. Calculate a function to generate random arrays with range of (1,100) and the naive functions to calculate Mean, Varience and Standard deviation for the array generated"
   ]
  },
  {
   "cell_type": "code",
   "execution_count": 10,
   "id": "9c7a2930",
   "metadata": {
    "id": "9c7a2930"
   },
   "outputs": [
    {
     "name": "stdout",
     "output_type": "stream",
     "text": [
      "Random Array: [67 28 56 86 24 35 10 63 78 72]\n",
      "Mean: 51.9\n",
      "Variance: 600.69\n",
      "Standard Deviation: 24.508977946866736\n"
     ]
    }
   ],
   "source": [
    "import numpy as np\n",
    "\n",
    "def generate_random_array(size, low=1, high=100):\n",
    "    return np.random.randint(low, high + 1, size)\n",
    "\n",
    "def calculate_mean(arr):\n",
    "    return sum(arr) / len(arr)\n",
    "\n",
    "def calculate_variance(arr):\n",
    "    mean = calculate_mean(arr)\n",
    "    return sum((x - mean) ** 2 for x in arr) / len(arr)\n",
    "\n",
    "def calculate_standard_deviation(arr):\n",
    "    return np.sqrt(calculate_variance(arr))\n",
    "\n",
    "random_array = generate_random_array(10)\n",
    "print(\"Random Array:\", random_array)\n",
    "\n",
    "mean_value = calculate_mean(random_array)\n",
    "variance_value = calculate_variance(random_array)\n",
    "std_deviation_value = calculate_standard_deviation(random_array)\n",
    "\n",
    "print(\"Mean:\", mean_value)\n",
    "print(\"Variance:\", variance_value)\n",
    "print(\"Standard Deviation:\", std_deviation_value)\n"
   ]
  },
  {
   "cell_type": "code",
   "execution_count": null,
   "id": "d9df5a6b",
   "metadata": {
    "id": "d9df5a6b"
   },
   "outputs": [],
   "source": []
  }
 ],
 "metadata": {
  "colab": {
   "provenance": []
  },
  "kernelspec": {
   "display_name": "Python 3 (ipykernel)",
   "language": "python",
   "name": "python3"
  },
  "language_info": {
   "codemirror_mode": {
    "name": "ipython",
    "version": 3
   },
   "file_extension": ".py",
   "mimetype": "text/x-python",
   "name": "python",
   "nbconvert_exporter": "python",
   "pygments_lexer": "ipython3",
   "version": "3.11.4"
  }
 },
 "nbformat": 4,
 "nbformat_minor": 5
}
